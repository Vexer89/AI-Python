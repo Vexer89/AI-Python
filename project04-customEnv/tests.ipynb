{
 "cells": [
  {
   "metadata": {},
   "cell_type": "code",
   "source": [
    "import gymnasium as gym\n",
    "from gymnasium.envs.registration import register"
   ],
   "id": "3f2118e2a0ad6296",
   "outputs": [],
   "execution_count": null
  },
  {
   "metadata": {},
   "cell_type": "code",
   "source": [
    "register(\n",
    "    id=\"TowerClimb-v0\",\n",
    "    entry_point=\"tower_climb.tower_climb_env:TowerClimbEnv\",\n",
    ")"
   ],
   "id": "b6b99b773fd2ee01",
   "outputs": [],
   "execution_count": null
  },
  {
   "metadata": {},
   "cell_type": "code",
   "source": [
    "from stable_baselines3 import PPO\n",
    "from stable_baselines3.common.env_checker import check_env\n",
    "\n",
    "env = gym.make(\"TowerClimb-v0\")\n",
    "\n",
    "# Opcjonalnie: sprawdzenie środowiska\n",
    "check_env(env, warn=True)\n",
    "\n",
    "model = PPO(\"MultiInputPolicy\", env, verbose=1)\n",
    "model.learn(total_timesteps=100_000)\n",
    "\n",
    "model.save(\"ppo_tower_climb\")\n"
   ],
   "id": "bd245214133b1c51",
   "outputs": [],
   "execution_count": null
  },
  {
   "metadata": {},
   "cell_type": "code",
   "source": [
    "model = PPO.load(\"ppo_tower_climb\")\n",
    "\n",
    "env = gym.make(\"TowerClimb-v0\", render_mode=\"human\")\n",
    "obs, _ = env.reset()\n",
    "\n",
    "for i in range(10):\n",
    "    done = False\n",
    "    while not done:\n",
    "        action, _states = model.predict(obs, deterministic=True)\n",
    "        obs, reward, terminated, truncated, info = env.step(action)\n",
    "        done = terminated or truncated\n",
    "        env.render()"
   ],
   "id": "8c74d27c2498300d",
   "outputs": [],
   "execution_count": null
  },
  {
   "metadata": {},
   "cell_type": "code",
   "source": "",
   "id": "2a01681dd8522ca4",
   "outputs": [],
   "execution_count": null
  },
  {
   "metadata": {},
   "cell_type": "code",
   "source": "",
   "id": "39c4f1af15da261a",
   "outputs": [],
   "execution_count": null
  }
 ],
 "metadata": {
  "kernelspec": {
   "display_name": "Python 3",
   "language": "python",
   "name": "python3"
  },
  "language_info": {
   "codemirror_mode": {
    "name": "ipython",
    "version": 2
   },
   "file_extension": ".py",
   "mimetype": "text/x-python",
   "name": "python",
   "nbconvert_exporter": "python",
   "pygments_lexer": "ipython2",
   "version": "2.7.6"
  }
 },
 "nbformat": 4,
 "nbformat_minor": 5
}
